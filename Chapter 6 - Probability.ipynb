{
 "cells": [
  {
   "cell_type": "markdown",
   "metadata": {},
   "source": [
    "# Recall\n",
    "\n",
    "- Probability is a way of quantifying the uncertainty asscociated with events chosen from some universe of events\n",
    "    - E.g. flipping a coin\n",
    "    - E.g. rolling a die\n",
    "    \n",
    "- The probability of event E occuring is denoted by $P(E)$"
   ]
  },
  {
   "cell_type": "markdown",
   "metadata": {},
   "source": [
    "# Dependence vs. Independence\n",
    "\n",
    "- If events E and F are **dependent**, then knowing that event E occured (or didn't occur) will change the probability of event F\n",
    "    - E.g. E is heavy snowfall, and F is school being closed\n",
    "        - **School being closed (F) is much more likely if there was heavy snow last night (E)**\n",
    "        \n",
    "- If events E and F are dependent, then it makes no difference to event F if E already occured\n",
    "    - E.g. F is dying of a heart attack in New York, E is the temperature at the north pole being greater than -10C\n",
    "        - **If it's greater than -10C at the north pole, it doesn't make you more likely to have a heart attack**"
   ]
  },
  {
   "cell_type": "markdown",
   "metadata": {},
   "source": [
    "# Conditional Probability\n",
    "\n",
    "- We denote the probability of event F given event E occured as $P(F|E)$\n",
    "\n",
    "- If E and F are independent, then $P(F|E) = P(F)$ since event E makes no difference"
   ]
  },
  {
   "cell_type": "markdown",
   "metadata": {},
   "source": [
    "# Bayes's Theorem\n",
    "\n",
    "- This tells us:\n",
    "\n",
    "### $P(A|B) = \\frac{P(A\\cap B)}{P(B)}$\n",
    "\n",
    "In other words, the probability of event A occuring given event B has already happened is equal to the probability of event A and B **both occuring** divided by the probability of event B\n",
    "\n",
    "### Examples\n",
    "\n",
    "**Question 1**. Assume an employer is testing for a drug that 0.99% of the population actually uses\n",
    "    - If a person actually uses the drug, the test will pick it up 100% of the time (i.e. perfectly accurate)\n",
    "    - If a person doesn't use the drug, it'll be accurate 95% of the time (i.e. 1% of the time, will give false positive)\n",
    "    \n",
    "**Given a person tested positive, what is the probability that they are actually a drug user?**\n",
    "\n",
    "## $P(\\text{Actual User }|\\text{ Positive Test}) = \\frac{P(\\text{Actual User that got a positive test})}{P(\\text{Positive Test})}$\n",
    "\n",
    "- We know that $P(\\text{Actual user that got a positive test}) = 1\\cdot0.0099$ from above\n",
    "- We also know:\n",
    "\n",
    "### $P(\\text{Positive Test}) = 0.0099\\cdot1 + 0.99\\cdot0.05 = 0.0595$\n",
    "\n",
    "- So given that we got a positive result, the probability that the person is an actual user is 0.0099/0.0595, or about 1/6\n",
    "____\n",
    "\n",
    "**Question 2.** We have a bag with 3 coins: 2 fair coins, and one HH coin\n",
    "    - If we flipped 3 heads in a row, what's the probability that we'll get a heads on our next flip?\n",
    "    \n",
    "## $P(\\text{4th H }|\\text{ 3 H in a row} = \\frac{P(\\text{3 H in a row and a 4th H})}{P(\\text{3 H in a row})}$\n",
    "\n",
    "### 1. $P(\\text{3 H in a row and a 4th H}) = P(\\text{4 H in a row}) = P(\\text{Fair Coin})\\cdot P(\\text{4H|Fair Coin})+P(\\text{HH Coin})\\cdot P(\\text{4H|HH})$\n",
    "\n",
    "\n",
    "- The probability of choosing one of the 2 fair coins is 2/3, and each flip has a 50-50 chance of being heads so:\n",
    "\n",
    "$P(\\text{Fair Coin})\\cdot P(\\text{4H|Fair Coin}) = \\frac{2}{3} \\cdot (\\frac{1}{2})^{4} = \\frac{1}{3}\\cdot (\\frac{1}{2})^{3}$\n",
    "\n",
    "- The probability of choosing the HH coin is 1/3, and each flip has a 100% chance of being heads so:\n",
    "\n",
    "$P(\\text{HH Coin})\\cdot P(\\text{4H|HH Coin}) = \\frac{1}{3} \\cdot (1)^{4} = \\frac{1}{3}$\n",
    "\n",
    "- Adding them together we get:\n",
    "\n",
    "### $P(\\text{3 H in a row and a 4th H}) = \\frac{1}{3}\\cdot (\\frac{1}{2})^{3} + \\frac{1}{3} = \\frac{1}{3}\\cdot[(\\frac{1}{2})^{3}+1] = \\frac{1}{3} \\cdot \\frac{9}{8} = \\frac{3}{8}$\n",
    "\n",
    "### 2. $P(\\text{3 H in a row}) = P(\\text{Fair Coin})\\cdot P(\\text{3H|Fair Coin})+P(\\text{HH Coin})\\cdot P(\\text{3H|HH})$\n",
    "\n",
    "$P(\\text{Fair Coin})\\cdot P(\\text{3H|Fair Coin}) = \\frac{2}{3} \\cdot (\\frac{1}{2})^{3} = \\frac{1}{3}\\cdot (\\frac{1}{2})^{2}$\n",
    "\n",
    "$P(\\text{HH Coin})\\cdot P(\\text{3H|HH Coin}) = \\frac{1}{3} \\cdot (1)^{3} = \\frac{1}{3}$\n",
    "\n",
    "- Adding them together we get:\n",
    "\n",
    "### $P(\\text{3 H in a row}) = \\frac{1}{3}\\cdot (\\frac{1}{2})^{2} + \\frac{1}{3} = \\frac{1}{3}\\cdot[(\\frac{1}{2})^{2}+1] = \\frac{1}{3} \\cdot \\frac{5}{4} = \\frac{5}{12}$\n",
    "\n",
    "### Finally:\n",
    "\n",
    "## $\\frac{P(\\text{3 H in a row and a 4th H})}{P(\\text{3 H in a row})} = \\frac{3}{8} \\cdot \\frac{12}{5} = \\frac{36}{40} = \\frac{9}{10}$\n",
    "\n",
    "### Therefore the probability is 0.9"
   ]
  },
  {
   "cell_type": "code",
   "execution_count": null,
   "metadata": {
    "collapsed": true
   },
   "outputs": [],
   "source": []
  }
 ],
 "metadata": {
  "anaconda-cloud": {},
  "kernelspec": {
   "display_name": "Python [default]",
   "language": "python",
   "name": "python3"
  },
  "language_info": {
   "codemirror_mode": {
    "name": "ipython",
    "version": 3
   },
   "file_extension": ".py",
   "mimetype": "text/x-python",
   "name": "python",
   "nbconvert_exporter": "python",
   "pygments_lexer": "ipython3",
   "version": "3.5.2"
  }
 },
 "nbformat": 4,
 "nbformat_minor": 1
}
